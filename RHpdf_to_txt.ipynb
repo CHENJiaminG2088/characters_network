{
 "cells": [
  {
   "cell_type": "code",
   "execution_count": 1,
   "id": "aa03611b",
   "metadata": {},
   "outputs": [
    {
     "name": "stdout",
     "output_type": "stream",
     "text": [
      "Collecting pdfplumber\n",
      "  Obtaining dependency information for pdfplumber from https://files.pythonhosted.org/packages/ee/ec/315015b6c4667d889cc14348c93e31f9fd43a6f61162b85c39e4a21018d5/pdfplumber-0.11.0-py3-none-any.whl.metadata\n",
      "  Downloading pdfplumber-0.11.0-py3-none-any.whl.metadata (39 kB)\n",
      "Collecting pdfminer.six==20231228 (from pdfplumber)\n",
      "  Obtaining dependency information for pdfminer.six==20231228 from https://files.pythonhosted.org/packages/eb/9c/e46fe7502b32d7db6af6e36a9105abb93301fa1ec475b5ddcba8b35ae23a/pdfminer.six-20231228-py3-none-any.whl.metadata\n",
      "  Downloading pdfminer.six-20231228-py3-none-any.whl.metadata (4.2 kB)\n",
      "Requirement already satisfied: Pillow>=9.1 in /Users/meinv/anaconda3/lib/python3.11/site-packages (from pdfplumber) (10.0.1)\n",
      "Collecting pypdfium2>=4.18.0 (from pdfplumber)\n",
      "  Obtaining dependency information for pypdfium2>=4.18.0 from https://files.pythonhosted.org/packages/42/ea/ae566f67fe82884d365ec574d3105d15df7baecf96d14f25d175fdcf4e73/pypdfium2-4.29.0-py3-none-macosx_11_0_arm64.whl.metadata\n",
      "  Downloading pypdfium2-4.29.0-py3-none-macosx_11_0_arm64.whl.metadata (48 kB)\n",
      "\u001b[2K     \u001b[90m━━━━━━━━━━━━━━━━━━━━━━━━━━━━━━━━━━━━━━━━\u001b[0m \u001b[32m48.5/48.5 kB\u001b[0m \u001b[31m10.7 MB/s\u001b[0m eta \u001b[36m0:00:00\u001b[0m\n",
      "\u001b[?25hRequirement already satisfied: charset-normalizer>=2.0.0 in /Users/meinv/anaconda3/lib/python3.11/site-packages (from pdfminer.six==20231228->pdfplumber) (2.0.4)\n",
      "Requirement already satisfied: cryptography>=36.0.0 in /Users/meinv/anaconda3/lib/python3.11/site-packages (from pdfminer.six==20231228->pdfplumber) (41.0.3)\n",
      "Requirement already satisfied: cffi>=1.12 in /Users/meinv/anaconda3/lib/python3.11/site-packages (from cryptography>=36.0.0->pdfminer.six==20231228->pdfplumber) (1.15.1)\n",
      "Requirement already satisfied: pycparser in /Users/meinv/anaconda3/lib/python3.11/site-packages (from cffi>=1.12->cryptography>=36.0.0->pdfminer.six==20231228->pdfplumber) (2.21)\n",
      "Downloading pdfplumber-0.11.0-py3-none-any.whl (56 kB)\n",
      "\u001b[2K   \u001b[90m━━━━━━━━━━━━━━━━━━━━━━━━━━━━━━━━━━━━━━━━\u001b[0m \u001b[32m56.4/56.4 kB\u001b[0m \u001b[31m10.1 MB/s\u001b[0m eta \u001b[36m0:00:00\u001b[0m\n",
      "\u001b[?25hDownloading pdfminer.six-20231228-py3-none-any.whl (5.6 MB)\n",
      "\u001b[2K   \u001b[90m━━━━━━━━━━━━━━━━━━━━━━━━━━━━━━━━━━━━━━━━\u001b[0m \u001b[32m5.6/5.6 MB\u001b[0m \u001b[31m16.8 MB/s\u001b[0m eta \u001b[36m0:00:00\u001b[0m00:01\u001b[0m00:01\u001b[0m\n",
      "\u001b[?25hDownloading pypdfium2-4.29.0-py3-none-macosx_11_0_arm64.whl (2.7 MB)\n",
      "\u001b[2K   \u001b[90m━━━━━━━━━━━━━━━━━━━━━━━━━━━━━━━━━━━━━━━━\u001b[0m \u001b[32m2.7/2.7 MB\u001b[0m \u001b[31m27.8 MB/s\u001b[0m eta \u001b[36m0:00:00\u001b[0ma \u001b[36m0:00:01\u001b[0m\n",
      "\u001b[?25hInstalling collected packages: pypdfium2, pdfminer.six, pdfplumber\n",
      "Successfully installed pdfminer.six-20231228 pdfplumber-0.11.0 pypdfium2-4.29.0\n"
     ]
    }
   ],
   "source": [
    "!pip install pdfplumber"
   ]
  },
  {
   "cell_type": "code",
   "execution_count": 4,
   "id": "5151f059",
   "metadata": {},
   "outputs": [
    {
     "name": "stdout",
     "output_type": "stream",
     "text": [
      "已转换文件: Not_for_very_much_longer.pdf -> /Users/meinv/Documents/booknlp_for_Ao3/RH_10_txt/txt_exports/Not_for_very_much_longer.txt\n",
      "已转换文件: Unfaithful_Handyman.pdf -> /Users/meinv/Documents/booknlp_for_Ao3/RH_10_txt/txt_exports/Unfaithful_Handyman.txt\n",
      "已转换文件: Science_Fiction_Double.pdf -> /Users/meinv/Documents/booknlp_for_Ao3/RH_10_txt/txt_exports/Science_Fiction_Double.txt\n",
      "已转换文件: The_In-Betweens.pdf -> /Users/meinv/Documents/booknlp_for_Ao3/RH_10_txt/txt_exports/The_In-Betweens.txt\n",
      "已转换文件: Ever_heard_of_the_rocky.pdf -> /Users/meinv/Documents/booknlp_for_Ao3/RH_10_txt/txt_exports/Ever_heard_of_the_rocky.txt\n",
      "已转换文件: Thinking_of_Home.pdf -> /Users/meinv/Documents/booknlp_for_Ao3/RH_10_txt/txt_exports/Thinking_of_Home.txt\n",
      "已转换文件: An_Unlikely_Comfort.pdf -> /Users/meinv/Documents/booknlp_for_Ao3/RH_10_txt/txt_exports/An_Unlikely_Comfort.txt\n",
      "已转换文件: Untangle_Memories_And.pdf -> /Users/meinv/Documents/booknlp_for_Ao3/RH_10_txt/txt_exports/Untangle_Memories_And.txt\n",
      "已转换文件: Were_Not_Lucky_Magenta_x.pdf -> /Users/meinv/Documents/booknlp_for_Ao3/RH_10_txt/txt_exports/Were_Not_Lucky_Magenta_x.txt\n",
      "已转换文件: Rocky_Horror_Picture.pdf -> /Users/meinv/Documents/booknlp_for_Ao3/RH_10_txt/txt_exports/Rocky_Horror_Picture.txt\n"
     ]
    }
   ],
   "source": [
    "import os\n",
    "import pdfplumber\n",
    "\n",
    "# 源文件夹路径\n",
    "source_folder = \"/Users/meinv/Documents/booknlp_for_Ao3/RH_10_pdf\"\n",
    "\n",
    "# 目标文件夹路径，用于保存TXT文件\n",
    "target_folder = \"/Users/meinv/Documents/booknlp_for_Ao3/RH_10_txt/txt_exports\"\n",
    "\n",
    "if not os.path.exists(target_folder):\n",
    "    os.makedirs(target_folder)\n",
    "\n",
    "    # 遍历源文件夹中的所有文件\n",
    "for filename in os.listdir(source_folder):\n",
    "    if filename.endswith(\".pdf\"):\n",
    "        # 构建完整的文件路径\n",
    "        file_path = os.path.join(source_folder, filename)\n",
    "\n",
    "        # 使用pdfplumber打开PDF文件\n",
    "        with pdfplumber.open(file_path) as pdf:\n",
    "            # 初始化一个空字符串来保存文本内容\n",
    "            text = \"\"\n",
    "            # 遍历PDF中的每一页\n",
    "            for page in pdf.pages:\n",
    "                # 提取页面的文本并添加到text变量中\n",
    "                text += page.extract_text()\n",
    "                text += \"\\n\\n\"  # 添加换行符以分隔不同页面的内容\n",
    "\n",
    "        # 构建目标TXT文件的路径，文件名保持不变，只是扩展名改为.txt\n",
    "        txt_file_path = os.path.join(target_folder, filename.replace(\".pdf\", \".txt\"))\n",
    "\n",
    "        # 将文本内容写入TXT文件\n",
    "        with open(txt_file_path, \"w\", encoding=\"utf-8\") as txt_file:\n",
    "            txt_file.write(text)\n",
    "\n",
    "        print(f\"已转换文件: {filename} -> {txt_file_path}\")"
   ]
  },
  {
   "cell_type": "code",
   "execution_count": null,
   "id": "f4e65816",
   "metadata": {},
   "outputs": [],
   "source": []
  }
 ],
 "metadata": {
  "kernelspec": {
   "display_name": "Python 3 (ipykernel)",
   "language": "python",
   "name": "python3"
  },
  "language_info": {
   "codemirror_mode": {
    "name": "ipython",
    "version": 3
   },
   "file_extension": ".py",
   "mimetype": "text/x-python",
   "name": "python",
   "nbconvert_exporter": "python",
   "pygments_lexer": "ipython3",
   "version": "3.11.4"
  }
 },
 "nbformat": 4,
 "nbformat_minor": 5
}
